{
 "cells": [
  {
   "cell_type": "code",
   "execution_count": 1,
   "metadata": {},
   "outputs": [
    {
     "name": "stdout",
     "output_type": "stream",
     "text": [
      "enter input_1:4\n",
      "enter opeator:+\n",
      "enter input_2:5\n",
      "addition is:9\n"
     ]
    }
   ],
   "source": [
    "a=int(input(\"enter input_1:\"))\n",
    "operator=input(\"enter opeator:\")\n",
    "b=int(input(\"enter input_2:\"))\n",
    "if operator == \"+\":\n",
    " c=a+b\n",
    " print(\"addition is:\" +str(c))\n",
    "elif operator == \"-\":\n",
    " c=a-b\n",
    " print(\"substraction is:\" +str(c))\n",
    "elif operator == \"*\":\n",
    " c=a*b\n",
    " print(\"multiplication is:\" +str(c))\n",
    "elif operator == \"/\":\n",
    " c=a/b\n",
    " print(\"division is:\" +str(c))\n",
    "elif operator == \"**\":\n",
    " c=a**b\n",
    " print(\"power is:\" +str(c))\n",
    "else:\n",
    " print(\"you have wrong input\")\n"
   ]
  },
  {
   "cell_type": "code",
   "execution_count": 2,
   "metadata": {},
   "outputs": [
    {
     "name": "stdout",
     "output_type": "stream",
     "text": [
      "2 =numeric value in a list\n",
      "4 =numeric value in a list\n",
      "6 =numeric value in a list\n",
      "8.9 =numeric value in a list\n",
      "6 =numeric value in a list\n"
     ]
    }
   ],
   "source": [
    "arr=[\"khubaib\",2,4,6,\"uzair\",8.9,6]\n",
    "for a in arr:\n",
    "   if type(a)==int:\n",
    "    print(a,\"=\"+ \"numeric value in a list\")\n",
    "   elif type(a)==float:\n",
    "    print(a,\"=\" + \"numeric value in a list\")"
   ]
  },
  {
   "cell_type": "code",
   "execution_count": 3,
   "metadata": {},
   "outputs": [
    {
     "name": "stdout",
     "output_type": "stream",
     "text": [
      "enter key:khubaib\n",
      "enter value5\n",
      "{'khubaib': '5'}\n"
     ]
    }
   ],
   "source": [
    "dic={}\n",
    "key_input=input(\"enter key:\")\n",
    "value_input=input(\"enter value\")\n",
    "dic.update({key_input : value_input})\n",
    "print(dic)"
   ]
  },
  {
   "cell_type": "code",
   "execution_count": 4,
   "metadata": {},
   "outputs": [
    {
     "name": "stdout",
     "output_type": "stream",
     "text": [
      "sum of all the numeric items in a list is:22\n"
     ]
    }
   ],
   "source": [
    "dic={\n",
    "    \"value_1\":2,\n",
    "    \"value_2\":3,\n",
    "    \"char\":\"a\",\n",
    "    \"cal\":5,\n",
    "    \"a\":7,\n",
    "    \"b\":5\n",
    "}\n",
    "sum=0\n",
    "for i in dic.values():\n",
    "    if type(i)==int:\n",
    "     sum=sum+i\n",
    "print(\"sum of all the numeric items in a list is:\" +str(sum))"
   ]
  },
  {
   "cell_type": "code",
   "execution_count": 5,
   "metadata": {},
   "outputs": [
    {
     "name": "stdout",
     "output_type": "stream",
     "text": [
      "repeated item in list are [2, 3, 4, 5, 7]\n"
     ]
    }
   ],
   "source": [
    "arr1=[1,2,3,4,5,6,2,3,4,5,5,5,7,7]\n",
    "list_range = len(arr1)\n",
    "repeated = []\n",
    "for i in range(list_range):\n",
    "    a=i+1\n",
    "    for b in range(a,list_range):\n",
    "        if arr1[i] == arr1[b] and arr1[i] not in  repeated:\n",
    "         repeated.append(arr1[i])\n",
    "print(\"repeated item in list are\",repeated)"
   ]
  },
  {
   "cell_type": "code",
   "execution_count": 6,
   "metadata": {},
   "outputs": [
    {
     "name": "stdout",
     "output_type": "stream",
     "text": [
      "enter key name check if exist or notchar\n",
      "Given key exist\n"
     ]
    }
   ],
   "source": [
    "dic={\n",
    "    \"value_1\":2,\n",
    "    \"value_2\":3,\n",
    "    \"char\":\"a\",\n",
    "    \"cal\":5,\n",
    "    \"a\":7,\n",
    "    \"b\":5\n",
    "}\n",
    "\n",
    "key_check=input(\"enter key name check if exist or not\")\n",
    "flag=False\n",
    "for i in dic.keys():\n",
    "    if i == key_check:\n",
    "     flag = True\n",
    "     break\n",
    "     \n",
    "        \n",
    "if flag:\n",
    " print(\"Given key exist\")\n",
    "else:\n",
    " print(\"Given key does not exist\")"
   ]
  },
  {
   "cell_type": "code",
   "execution_count": null,
   "metadata": {},
   "outputs": [],
   "source": []
  }
 ],
 "metadata": {
  "kernelspec": {
   "display_name": "Python 3",
   "language": "python",
   "name": "python3"
  },
  "language_info": {
   "codemirror_mode": {
    "name": "ipython",
    "version": 3
   },
   "file_extension": ".py",
   "mimetype": "text/x-python",
   "name": "python",
   "nbconvert_exporter": "python",
   "pygments_lexer": "ipython3",
   "version": "3.7.4"
  }
 },
 "nbformat": 4,
 "nbformat_minor": 2
}
